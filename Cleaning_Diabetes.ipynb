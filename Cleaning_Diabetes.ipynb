{
 "cells": [
  {
   "cell_type": "code",
   "execution_count": 159,
   "id": "74cbcd40-c8a6-43ee-8307-656c890a2de2",
   "metadata": {},
   "outputs": [
    {
     "data": {
      "text/html": [
       "<div>\n",
       "<style scoped>\n",
       "    .dataframe tbody tr th:only-of-type {\n",
       "        vertical-align: middle;\n",
       "    }\n",
       "\n",
       "    .dataframe tbody tr th {\n",
       "        vertical-align: top;\n",
       "    }\n",
       "\n",
       "    .dataframe thead th {\n",
       "        text-align: right;\n",
       "    }\n",
       "</style>\n",
       "<table border=\"1\" class=\"dataframe\">\n",
       "  <thead>\n",
       "    <tr style=\"text-align: right;\">\n",
       "      <th></th>\n",
       "      <th>Pregnancies</th>\n",
       "      <th>Glucose</th>\n",
       "      <th>BloodPressure</th>\n",
       "      <th>SkinThickness</th>\n",
       "      <th>Insulin</th>\n",
       "      <th>BMI</th>\n",
       "      <th>DiabetesPedigreeFunction</th>\n",
       "      <th>Age</th>\n",
       "      <th>Outcome</th>\n",
       "    </tr>\n",
       "  </thead>\n",
       "  <tbody>\n",
       "    <tr>\n",
       "      <th>0</th>\n",
       "      <td>3.0</td>\n",
       "      <td>167.0</td>\n",
       "      <td>39</td>\n",
       "      <td>28</td>\n",
       "      <td>545</td>\n",
       "      <td>53.0</td>\n",
       "      <td>2.447</td>\n",
       "      <td>125.0</td>\n",
       "      <td>FALSE</td>\n",
       "    </tr>\n",
       "    <tr>\n",
       "      <th>1</th>\n",
       "      <td>13.0</td>\n",
       "      <td>151.0</td>\n",
       "      <td>107</td>\n",
       "      <td>38</td>\n",
       "      <td>10000</td>\n",
       "      <td>9.2</td>\n",
       "      <td>0.507</td>\n",
       "      <td>148.0</td>\n",
       "      <td>FALSE</td>\n",
       "    </tr>\n",
       "    <tr>\n",
       "      <th>2</th>\n",
       "      <td>8.0</td>\n",
       "      <td>59.0</td>\n",
       "      <td>109</td>\n",
       "      <td>18</td>\n",
       "      <td>739</td>\n",
       "      <td>59.1</td>\n",
       "      <td>1.769</td>\n",
       "      <td>91.0</td>\n",
       "      <td>TRUE</td>\n",
       "    </tr>\n",
       "    <tr>\n",
       "      <th>3</th>\n",
       "      <td>11.0</td>\n",
       "      <td>132.0</td>\n",
       "      <td>83</td>\n",
       "      <td>11</td>\n",
       "      <td>376</td>\n",
       "      <td>4.1</td>\n",
       "      <td>2.772</td>\n",
       "      <td>NaN</td>\n",
       "      <td>TRUE</td>\n",
       "    </tr>\n",
       "    <tr>\n",
       "      <th>4</th>\n",
       "      <td>10.0</td>\n",
       "      <td>165.0</td>\n",
       "      <td>48</td>\n",
       "      <td>37</td>\n",
       "      <td>737</td>\n",
       "      <td>39.4</td>\n",
       "      <td>0.729</td>\n",
       "      <td>73.0</td>\n",
       "      <td>FALSE</td>\n",
       "    </tr>\n",
       "    <tr>\n",
       "      <th>...</th>\n",
       "      <td>...</td>\n",
       "      <td>...</td>\n",
       "      <td>...</td>\n",
       "      <td>...</td>\n",
       "      <td>...</td>\n",
       "      <td>...</td>\n",
       "      <td>...</td>\n",
       "      <td>...</td>\n",
       "      <td>...</td>\n",
       "    </tr>\n",
       "    <tr>\n",
       "      <th>999</th>\n",
       "      <td>6.0</td>\n",
       "      <td>110.0</td>\n",
       "      <td>26</td>\n",
       "      <td>27</td>\n",
       "      <td>590</td>\n",
       "      <td>20.8</td>\n",
       "      <td>1.185</td>\n",
       "      <td>95.0</td>\n",
       "      <td>FALSE</td>\n",
       "    </tr>\n",
       "    <tr>\n",
       "      <th>1000</th>\n",
       "      <td>6.0</td>\n",
       "      <td>NaN</td>\n",
       "      <td>10</td>\n",
       "      <td>4</td>\n",
       "      <td>640</td>\n",
       "      <td>55.7</td>\n",
       "      <td>2.483</td>\n",
       "      <td>79.0</td>\n",
       "      <td>FALSE</td>\n",
       "    </tr>\n",
       "    <tr>\n",
       "      <th>1001</th>\n",
       "      <td>4.0</td>\n",
       "      <td>80.0</td>\n",
       "      <td>24</td>\n",
       "      <td>6</td>\n",
       "      <td>268</td>\n",
       "      <td>48.9</td>\n",
       "      <td>0.989</td>\n",
       "      <td>81.0</td>\n",
       "      <td>TRUE</td>\n",
       "    </tr>\n",
       "    <tr>\n",
       "      <th>1002</th>\n",
       "      <td>3.0</td>\n",
       "      <td>142.0</td>\n",
       "      <td>Error</td>\n",
       "      <td>10</td>\n",
       "      <td>299</td>\n",
       "      <td>4.8</td>\n",
       "      <td>2.411</td>\n",
       "      <td>71.0</td>\n",
       "      <td>TRUE</td>\n",
       "    </tr>\n",
       "    <tr>\n",
       "      <th>1003</th>\n",
       "      <td>6.0</td>\n",
       "      <td>151.0</td>\n",
       "      <td>60</td>\n",
       "      <td>26</td>\n",
       "      <td>362</td>\n",
       "      <td>43.4</td>\n",
       "      <td>2.027</td>\n",
       "      <td>23.0</td>\n",
       "      <td>FALSE</td>\n",
       "    </tr>\n",
       "  </tbody>\n",
       "</table>\n",
       "<p>1004 rows × 9 columns</p>\n",
       "</div>"
      ],
      "text/plain": [
       "      Pregnancies  Glucose BloodPressure  SkinThickness  Insulin   BMI  \\\n",
       "0             3.0    167.0            39             28      545  53.0   \n",
       "1            13.0    151.0           107             38    10000   9.2   \n",
       "2             8.0     59.0           109             18      739  59.1   \n",
       "3            11.0    132.0            83             11      376   4.1   \n",
       "4            10.0    165.0            48             37      737  39.4   \n",
       "...           ...      ...           ...            ...      ...   ...   \n",
       "999           6.0    110.0            26             27      590  20.8   \n",
       "1000          6.0      NaN            10              4      640  55.7   \n",
       "1001          4.0     80.0            24              6      268  48.9   \n",
       "1002          3.0    142.0         Error             10      299   4.8   \n",
       "1003          6.0    151.0            60             26      362  43.4   \n",
       "\n",
       "      DiabetesPedigreeFunction    Age Outcome  \n",
       "0                        2.447  125.0   FALSE  \n",
       "1                        0.507  148.0   FALSE  \n",
       "2                        1.769   91.0    TRUE  \n",
       "3                        2.772    NaN    TRUE  \n",
       "4                        0.729   73.0   FALSE  \n",
       "...                        ...    ...     ...  \n",
       "999                      1.185   95.0   FALSE  \n",
       "1000                     2.483   79.0   FALSE  \n",
       "1001                     0.989   81.0    TRUE  \n",
       "1002                     2.411   71.0    TRUE  \n",
       "1003                     2.027   23.0   FALSE  \n",
       "\n",
       "[1004 rows x 9 columns]"
      ]
     },
     "metadata": {},
     "output_type": "display_data"
    }
   ],
   "source": [
    "import numpy as np\n",
    "import pandas as pd\n",
    "pima_df = pd.read_csv(\"C:/Users/micha/PycharmProjects/Docs/diabetes_uncleaned_data.csv\")\n",
    "\n",
    "display(pima_df)"
   ]
  },
  {
   "cell_type": "code",
   "execution_count": 160,
   "id": "405141fc-73a6-4435-b2d5-4720b8959fda",
   "metadata": {},
   "outputs": [
    {
     "data": {
      "text/plain": [
       "Pregnancies                 114\n",
       "Glucose                      16\n",
       "BloodPressure                22\n",
       "SkinThickness                 0\n",
       "Insulin                       0\n",
       "BMI                           1\n",
       "DiabetesPedigreeFunction      0\n",
       "Age                          22\n",
       "Outcome                       0\n",
       "dtype: int64"
      ]
     },
     "execution_count": 160,
     "metadata": {},
     "output_type": "execute_result"
    }
   ],
   "source": [
    "# Part2 Question 1:  In your Jupyter Notebook, find columns with missing data.\n",
    "missing = pima_df\n",
    "pima_df.isna().sum()"
   ]
  },
  {
   "cell_type": "code",
   "execution_count": 161,
   "id": "c897f186-f7c1-4991-a81a-5cdf5090f0cc",
   "metadata": {},
   "outputs": [
    {
     "data": {
      "text/plain": [
       "Pregnancies                  890\n",
       "Glucose                      988\n",
       "BloodPressure                982\n",
       "SkinThickness               1004\n",
       "Insulin                     1004\n",
       "BMI                         1003\n",
       "DiabetesPedigreeFunction    1004\n",
       "Age                          982\n",
       "Outcome                     1004\n",
       "dtype: int64"
      ]
     },
     "metadata": {},
     "output_type": "display_data"
    },
    {
     "data": {
      "text/plain": [
       "Pregnancies                 840\n",
       "Glucose                     840\n",
       "BloodPressure               840\n",
       "SkinThickness               840\n",
       "Insulin                     840\n",
       "BMI                         840\n",
       "DiabetesPedigreeFunction    840\n",
       "Age                         840\n",
       "Outcome                     840\n",
       "dtype: int64"
      ]
     },
     "execution_count": 161,
     "metadata": {},
     "output_type": "execute_result"
    }
   ],
   "source": [
    "# Part2 Question 2:  Write code to remove rows with missing data and save the new dataframe as pima_missing_fixed_df.\n",
    "display(pima_df.count())\n",
    "pima_missing_fixed_df = pima_df.dropna(how=\"any\")\n",
    "pima_missing_fixed_df.count()"
   ]
  },
  {
   "cell_type": "code",
   "execution_count": 162,
   "id": "79f96206-47e1-4f54-a163-d210b97aa518",
   "metadata": {},
   "outputs": [
    {
     "name": "stdout",
     "output_type": "stream",
     "text": [
      "1004\n"
     ]
    }
   ],
   "source": [
    "# Question 3:  Print out the number of rows in the dataframe\n",
    "print(len(pima_df))\n"
   ]
  },
  {
   "cell_type": "code",
   "execution_count": 163,
   "id": "41baa177-5f2c-4226-9b9f-41d81241b50a",
   "metadata": {},
   "outputs": [
    {
     "name": "stdout",
     "output_type": "stream",
     "text": [
      "0       False\n",
      "1       False\n",
      "2       False\n",
      "4       False\n",
      "5       False\n",
      "        ...  \n",
      "998     False\n",
      "999      True\n",
      "1001    False\n",
      "1002    False\n",
      "1003     True\n",
      "Length: 840, dtype: bool\n"
     ]
    }
   ],
   "source": [
    "#Part3 Question 1:  In your Jupyter Notebook, find the rows of duplicated data in the pima_missing_fixed_df and print them.  \n",
    "print(pima_missing_fixed_df.duplicated())\n"
   ]
  },
  {
   "cell_type": "code",
   "execution_count": 164,
   "id": "6f1d5bf7-1c8b-454c-83b9-3c0b50750135",
   "metadata": {},
   "outputs": [
    {
     "data": {
      "text/plain": [
       "<bound method DataFrame.info of       Pregnancies  Glucose BloodPressure  SkinThickness  Insulin   BMI  \\\n",
       "0             3.0    167.0            39             28      545  53.0   \n",
       "1            13.0    151.0           107             38    10000   9.2   \n",
       "2             8.0     59.0           109             18      739  59.1   \n",
       "4            10.0    165.0            48             37      737  39.4   \n",
       "5          -100.0    142.0            88             39       82  42.7   \n",
       "...           ...      ...           ...            ...      ...   ...   \n",
       "996           6.0    117.0            91             28      212   1.0   \n",
       "997          13.0    163.0            10             37      457   8.0   \n",
       "998           6.0    110.0            26             27      590  20.8   \n",
       "1001          4.0     80.0            24              6      268  48.9   \n",
       "1002          3.0    142.0         Error             10      299   4.8   \n",
       "\n",
       "      DiabetesPedigreeFunction    Age Outcome  \n",
       "0                        2.447  125.0   FALSE  \n",
       "1                        0.507  148.0   FALSE  \n",
       "2                        1.769   91.0    TRUE  \n",
       "4                        0.729   73.0   FALSE  \n",
       "5                        1.369  148.0    TRUE  \n",
       "...                        ...    ...     ...  \n",
       "996                      1.969  137.0   FALSE  \n",
       "997                      2.400  125.0    TRUE  \n",
       "998                      1.185   95.0   FALSE  \n",
       "1001                     0.989   81.0    TRUE  \n",
       "1002                     2.411   71.0    TRUE  \n",
       "\n",
       "[836 rows x 9 columns]>"
      ]
     },
     "execution_count": 164,
     "metadata": {},
     "output_type": "execute_result"
    }
   ],
   "source": [
    "# part3 Question 2:  Write code to remove the duplicate rows and save the new dataframe as pima_dedupped_df\n",
    "pima_dedupped_df = pima_missing_fixed_df.drop_duplicates()\n",
    "pima_dedupped_df.count()\n",
    "pima_dedupped_df.info"
   ]
  },
  {
   "cell_type": "code",
   "execution_count": 165,
   "id": "bdfd57f4-32a9-45e7-9d7a-dd890c3e2aa3",
   "metadata": {},
   "outputs": [
    {
     "data": {
      "text/plain": [
       "836"
      ]
     },
     "execution_count": 165,
     "metadata": {},
     "output_type": "execute_result"
    }
   ],
   "source": [
    "# part3 Question 3: Print out the number of rows in the dataframe\n",
    "(len(pima_dedupped_df))"
   ]
  },
  {
   "cell_type": "code",
   "execution_count": 166,
   "id": "50d3d1f4-271b-4b69-8dd2-d8ba98d32042",
   "metadata": {},
   "outputs": [
    {
     "data": {
      "text/plain": [
       "Pregnancies\n",
       " 8.0      73\n",
       " 7.0      73\n",
       " 3.0      64\n",
       " 13.0     63\n",
       " 10.0     61\n",
       " 6.0      61\n",
       " 11.0     61\n",
       " 12.0     61\n",
       " 0.0      58\n",
       " 4.0      58\n",
       " 9.0      57\n",
       " 1.0      52\n",
       " 2.0      48\n",
       " 5.0      45\n",
       "-100.0     1\n",
       "Name: count, dtype: int64"
      ]
     },
     "metadata": {},
     "output_type": "display_data"
    }
   ],
   "source": [
    "# part4 Question 1: In your Jupyter notebook, find the columns where most of the data seems to be one type of data, and there seems \n",
    "# to be a data error. In the markdown, after exploring in code, add a markdown cell discussing which columns # have the data error. \n",
    "# display(pima_dedupped_df)\n",
    "# pima_dedupped_df.dtypes\n",
    "display(pima_dedupped_df['Pregnancies'].value_counts())\n"
   ]
  },
  {
   "cell_type": "code",
   "execution_count": 167,
   "id": "7cdb4243-3395-4c79-af1d-cc3831e23d62",
   "metadata": {},
   "outputs": [
    {
     "data": {
      "text/plain": [
       "Glucose\n",
       "180.0    11\n",
       "142.0    10\n",
       "39.0      9\n",
       "156.0     9\n",
       "131.0     8\n",
       "         ..\n",
       "175.0     1\n",
       "113.0     1\n",
       "100.0     1\n",
       "53.0      1\n",
       "61.0      1\n",
       "Name: count, Length: 196, dtype: int64"
      ]
     },
     "metadata": {},
     "output_type": "display_data"
    }
   ],
   "source": [
    "display(pima_dedupped_df['Glucose'].value_counts())"
   ]
  },
  {
   "cell_type": "code",
   "execution_count": 168,
   "id": "bbbe1bd7-6fd1-4452-9ec2-d48fcff29226",
   "metadata": {},
   "outputs": [
    {
     "data": {
      "text/plain": [
       "Outcome\n",
       "FALSE    441\n",
       "TRUE     394\n",
       "ERROR      1\n",
       "Name: count, dtype: int64"
      ]
     },
     "metadata": {},
     "output_type": "display_data"
    }
   ],
   "source": [
    "display(pima_dedupped_df['Outcome'].value_counts())"
   ]
  },
  {
   "cell_type": "code",
   "execution_count": 169,
   "id": "63c3f852-6301-4eb4-8bad-78de8e712a18",
   "metadata": {},
   "outputs": [
    {
     "data": {
      "text/html": [
       "<div>\n",
       "<style scoped>\n",
       "    .dataframe tbody tr th:only-of-type {\n",
       "        vertical-align: middle;\n",
       "    }\n",
       "\n",
       "    .dataframe tbody tr th {\n",
       "        vertical-align: top;\n",
       "    }\n",
       "\n",
       "    .dataframe thead th {\n",
       "        text-align: right;\n",
       "    }\n",
       "</style>\n",
       "<table border=\"1\" class=\"dataframe\">\n",
       "  <thead>\n",
       "    <tr style=\"text-align: right;\">\n",
       "      <th></th>\n",
       "      <th>Pregnancies</th>\n",
       "      <th>Glucose</th>\n",
       "      <th>BloodPressure</th>\n",
       "      <th>SkinThickness</th>\n",
       "      <th>Insulin</th>\n",
       "      <th>BMI</th>\n",
       "      <th>DiabetesPedigreeFunction</th>\n",
       "      <th>Age</th>\n",
       "      <th>Outcome</th>\n",
       "    </tr>\n",
       "  </thead>\n",
       "  <tbody>\n",
       "    <tr>\n",
       "      <th>0</th>\n",
       "      <td>3.0</td>\n",
       "      <td>167.0</td>\n",
       "      <td>39</td>\n",
       "      <td>28</td>\n",
       "      <td>545</td>\n",
       "      <td>53.0</td>\n",
       "      <td>2.447</td>\n",
       "      <td>125.0</td>\n",
       "      <td>FALSE</td>\n",
       "    </tr>\n",
       "    <tr>\n",
       "      <th>1</th>\n",
       "      <td>13.0</td>\n",
       "      <td>151.0</td>\n",
       "      <td>107</td>\n",
       "      <td>38</td>\n",
       "      <td>10000</td>\n",
       "      <td>9.2</td>\n",
       "      <td>0.507</td>\n",
       "      <td>148.0</td>\n",
       "      <td>FALSE</td>\n",
       "    </tr>\n",
       "    <tr>\n",
       "      <th>2</th>\n",
       "      <td>8.0</td>\n",
       "      <td>59.0</td>\n",
       "      <td>109</td>\n",
       "      <td>18</td>\n",
       "      <td>739</td>\n",
       "      <td>59.1</td>\n",
       "      <td>1.769</td>\n",
       "      <td>91.0</td>\n",
       "      <td>TRUE</td>\n",
       "    </tr>\n",
       "    <tr>\n",
       "      <th>4</th>\n",
       "      <td>10.0</td>\n",
       "      <td>165.0</td>\n",
       "      <td>48</td>\n",
       "      <td>37</td>\n",
       "      <td>737</td>\n",
       "      <td>39.4</td>\n",
       "      <td>0.729</td>\n",
       "      <td>73.0</td>\n",
       "      <td>FALSE</td>\n",
       "    </tr>\n",
       "    <tr>\n",
       "      <th>5</th>\n",
       "      <td>-100.0</td>\n",
       "      <td>142.0</td>\n",
       "      <td>88</td>\n",
       "      <td>39</td>\n",
       "      <td>82</td>\n",
       "      <td>42.7</td>\n",
       "      <td>1.369</td>\n",
       "      <td>148.0</td>\n",
       "      <td>TRUE</td>\n",
       "    </tr>\n",
       "    <tr>\n",
       "      <th>...</th>\n",
       "      <td>...</td>\n",
       "      <td>...</td>\n",
       "      <td>...</td>\n",
       "      <td>...</td>\n",
       "      <td>...</td>\n",
       "      <td>...</td>\n",
       "      <td>...</td>\n",
       "      <td>...</td>\n",
       "      <td>...</td>\n",
       "    </tr>\n",
       "    <tr>\n",
       "      <th>998</th>\n",
       "      <td>6.0</td>\n",
       "      <td>110.0</td>\n",
       "      <td>26</td>\n",
       "      <td>27</td>\n",
       "      <td>590</td>\n",
       "      <td>20.8</td>\n",
       "      <td>1.185</td>\n",
       "      <td>95.0</td>\n",
       "      <td>FALSE</td>\n",
       "    </tr>\n",
       "    <tr>\n",
       "      <th>999</th>\n",
       "      <td>6.0</td>\n",
       "      <td>110.0</td>\n",
       "      <td>26</td>\n",
       "      <td>27</td>\n",
       "      <td>590</td>\n",
       "      <td>20.8</td>\n",
       "      <td>1.185</td>\n",
       "      <td>95.0</td>\n",
       "      <td>FALSE</td>\n",
       "    </tr>\n",
       "    <tr>\n",
       "      <th>1001</th>\n",
       "      <td>4.0</td>\n",
       "      <td>80.0</td>\n",
       "      <td>24</td>\n",
       "      <td>6</td>\n",
       "      <td>268</td>\n",
       "      <td>48.9</td>\n",
       "      <td>0.989</td>\n",
       "      <td>81.0</td>\n",
       "      <td>TRUE</td>\n",
       "    </tr>\n",
       "    <tr>\n",
       "      <th>1002</th>\n",
       "      <td>3.0</td>\n",
       "      <td>142.0</td>\n",
       "      <td>Error</td>\n",
       "      <td>10</td>\n",
       "      <td>299</td>\n",
       "      <td>4.8</td>\n",
       "      <td>2.411</td>\n",
       "      <td>71.0</td>\n",
       "      <td>TRUE</td>\n",
       "    </tr>\n",
       "    <tr>\n",
       "      <th>1003</th>\n",
       "      <td>6.0</td>\n",
       "      <td>151.0</td>\n",
       "      <td>60</td>\n",
       "      <td>26</td>\n",
       "      <td>362</td>\n",
       "      <td>43.4</td>\n",
       "      <td>2.027</td>\n",
       "      <td>23.0</td>\n",
       "      <td>FALSE</td>\n",
       "    </tr>\n",
       "  </tbody>\n",
       "</table>\n",
       "<p>840 rows × 9 columns</p>\n",
       "</div>"
      ],
      "text/plain": [
       "      Pregnancies  Glucose BloodPressure  SkinThickness  Insulin   BMI  \\\n",
       "0             3.0    167.0            39             28      545  53.0   \n",
       "1            13.0    151.0           107             38    10000   9.2   \n",
       "2             8.0     59.0           109             18      739  59.1   \n",
       "4            10.0    165.0            48             37      737  39.4   \n",
       "5          -100.0    142.0            88             39       82  42.7   \n",
       "...           ...      ...           ...            ...      ...   ...   \n",
       "998           6.0    110.0            26             27      590  20.8   \n",
       "999           6.0    110.0            26             27      590  20.8   \n",
       "1001          4.0     80.0            24              6      268  48.9   \n",
       "1002          3.0    142.0         Error             10      299   4.8   \n",
       "1003          6.0    151.0            60             26      362  43.4   \n",
       "\n",
       "      DiabetesPedigreeFunction    Age Outcome  \n",
       "0                        2.447  125.0   FALSE  \n",
       "1                        0.507  148.0   FALSE  \n",
       "2                        1.769   91.0    TRUE  \n",
       "4                        0.729   73.0   FALSE  \n",
       "5                        1.369  148.0    TRUE  \n",
       "...                        ...    ...     ...  \n",
       "998                      1.185   95.0   FALSE  \n",
       "999                      1.185   95.0   FALSE  \n",
       "1001                     0.989   81.0    TRUE  \n",
       "1002                     2.411   71.0    TRUE  \n",
       "1003                     2.027   23.0   FALSE  \n",
       "\n",
       "[840 rows x 9 columns]"
      ]
     },
     "execution_count": 169,
     "metadata": {},
     "output_type": "execute_result"
    }
   ],
   "source": [
    "# part4 Question 2: Remove the rows with data errors in your jupyter notebook.\n",
    "pima_df.dropna(how=\"any\")"
   ]
  },
  {
   "cell_type": "code",
   "execution_count": 170,
   "id": "cea0f32a-1c70-431c-be46-70d2cfa8d79b",
   "metadata": {},
   "outputs": [
    {
     "data": {
      "text/plain": [
       "0       False\n",
       "1       False\n",
       "2       False\n",
       "4       False\n",
       "5        True\n",
       "        ...  \n",
       "996     False\n",
       "997     False\n",
       "998     False\n",
       "1001    False\n",
       "1002    False\n",
       "Name: Pregnancies, Length: 836, dtype: bool"
      ]
     },
     "metadata": {},
     "output_type": "display_data"
    },
    {
     "data": {
      "text/html": [
       "<div>\n",
       "<style scoped>\n",
       "    .dataframe tbody tr th:only-of-type {\n",
       "        vertical-align: middle;\n",
       "    }\n",
       "\n",
       "    .dataframe tbody tr th {\n",
       "        vertical-align: top;\n",
       "    }\n",
       "\n",
       "    .dataframe thead th {\n",
       "        text-align: right;\n",
       "    }\n",
       "</style>\n",
       "<table border=\"1\" class=\"dataframe\">\n",
       "  <thead>\n",
       "    <tr style=\"text-align: right;\">\n",
       "      <th></th>\n",
       "      <th>Pregnancies</th>\n",
       "      <th>Glucose</th>\n",
       "      <th>BloodPressure</th>\n",
       "      <th>SkinThickness</th>\n",
       "      <th>Insulin</th>\n",
       "      <th>BMI</th>\n",
       "      <th>DiabetesPedigreeFunction</th>\n",
       "      <th>Age</th>\n",
       "      <th>Outcome</th>\n",
       "    </tr>\n",
       "  </thead>\n",
       "  <tbody>\n",
       "    <tr>\n",
       "      <th>5</th>\n",
       "      <td>-100.0</td>\n",
       "      <td>142.0</td>\n",
       "      <td>88</td>\n",
       "      <td>39</td>\n",
       "      <td>82</td>\n",
       "      <td>42.7</td>\n",
       "      <td>1.369</td>\n",
       "      <td>148.0</td>\n",
       "      <td>TRUE</td>\n",
       "    </tr>\n",
       "  </tbody>\n",
       "</table>\n",
       "</div>"
      ],
      "text/plain": [
       "   Pregnancies  Glucose BloodPressure  SkinThickness  Insulin   BMI  \\\n",
       "5       -100.0    142.0            88             39       82  42.7   \n",
       "\n",
       "   DiabetesPedigreeFunction    Age Outcome  \n",
       "5                     1.369  148.0    TRUE  "
      ]
     },
     "metadata": {},
     "output_type": "display_data"
    }
   ],
   "source": [
    "display(is_iqr_outlier(pima_dedupped_df['Pregnancies']))\n",
    "\n",
    "display(pima_dedupped_df[is_iqr_outlier(pima_dedupped_df['Pregnancies'])])"
   ]
  },
  {
   "cell_type": "code",
   "execution_count": 171,
   "id": "e0d3c9ef-b5c5-4a24-b43f-6bdb6f6a53f7",
   "metadata": {},
   "outputs": [
    {
     "data": {
      "text/plain": [
       "Pregnancies                 836\n",
       "Glucose                     836\n",
       "BloodPressure               836\n",
       "SkinThickness               836\n",
       "Insulin                     836\n",
       "BMI                         836\n",
       "DiabetesPedigreeFunction    836\n",
       "Age                         836\n",
       "Outcome                     836\n",
       "dtype: int64"
      ]
     },
     "execution_count": 171,
     "metadata": {},
     "output_type": "execute_result"
    }
   ],
   "source": [
    "# part4 Question 3: After the data is fixed in your columns change the columns \n",
    "# to the correct type and save this as the pima_fixed_columns_df.\n",
    "pima_fixed_columns_df = pima_dedupped_df.dropna(how=\"any\")\n",
    "pima_fixed_columns_df.count()\n"
   ]
  },
  {
   "cell_type": "code",
   "execution_count": 172,
   "id": "5360ce64-7626-473c-8d3c-4e9323065773",
   "metadata": {},
   "outputs": [
    {
     "name": "stdout",
     "output_type": "stream",
     "text": [
      "<class 'pandas.core.frame.DataFrame'>\n",
      "Index: 836 entries, 0 to 1002\n",
      "Data columns (total 9 columns):\n",
      " #   Column                    Non-Null Count  Dtype  \n",
      "---  ------                    --------------  -----  \n",
      " 0   Pregnancies               836 non-null    float64\n",
      " 1   Glucose                   836 non-null    float64\n",
      " 2   BloodPressure             836 non-null    object \n",
      " 3   SkinThickness             836 non-null    int64  \n",
      " 4   Insulin                   836 non-null    int64  \n",
      " 5   BMI                       836 non-null    object \n",
      " 6   DiabetesPedigreeFunction  836 non-null    float64\n",
      " 7   Age                       836 non-null    float64\n",
      " 8   Outcome                   836 non-null    object \n",
      "dtypes: float64(4), int64(2), object(3)\n",
      "memory usage: 65.3+ KB\n"
     ]
    }
   ],
   "source": [
    "# part4 Question 4: Run pima_fixed_columns_df.info() to confirm the columns have changed\n",
    "pima_fixed_columns_df.info()"
   ]
  },
  {
   "cell_type": "code",
   "execution_count": 173,
   "id": "eef202d9-23a0-48a2-970e-53f00b5d726f",
   "metadata": {},
   "outputs": [
    {
     "name": "stdout",
     "output_type": "stream",
     "text": [
      "Outliers in Pregnancies:\n",
      "5   -100.0\n",
      "Name: Pregnancies, dtype: float64\n",
      "\n",
      "\n"
     ]
    }
   ],
   "source": [
    "# part5 Question 1: Print out the Outliers in each column in the pima_fixed_columns_df dataframe, use the IQR method of outlier detection.\n",
    "\n",
    "def find_outliers_iqr(column):\n",
    "    Q1 = column.quantile(0.25)\n",
    "    Q3 = column.quantile(0.75)\n",
    "    IQR = Q3 - Q1\n",
    "    \n",
    "    lower_bound = Q1 - 1.5 * IQR\n",
    "    upper_bound = Q3 + 1.5 * IQR\n",
    "    \n",
    "    outliers = column[(column < lower_bound) | (column > upper_bound)]\n",
    "    \n",
    "    return outliers\n",
    "\n",
    "# Iterate through each column and print outliers\n",
    "for column in pima_fixed_columns_df.columns:\n",
    "    outliers = find_outliers_iqr(pima_fixed_columns_df[column])\n",
    "    \n",
    "    if not outliers.empty:\n",
    "        print(f\"Outliers in {column}:\")\n",
    "        print(outliers)\n",
    "        print(\"\\n\")\n",
    "        break"
   ]
  },
  {
   "cell_type": "code",
   "execution_count": 174,
   "id": "80a24d80-b5cf-4c2c-a23a-06ad52556998",
   "metadata": {},
   "outputs": [
    {
     "name": "stdout",
     "output_type": "stream",
     "text": [
      "      Pregnancies  Glucose BloodPressure  SkinThickness  Insulin   BMI  \\\n",
      "0             3.0    167.0            39             28      545  53.0   \n",
      "1            13.0    151.0           107             38    10000   9.2   \n",
      "2             8.0     59.0           109             18      739  59.1   \n",
      "4            10.0    165.0            48             37      737  39.4   \n",
      "5             NaN    142.0            88             39       82  42.7   \n",
      "...           ...      ...           ...            ...      ...   ...   \n",
      "996           6.0    117.0            91             28      212   1.0   \n",
      "997          13.0    163.0            10             37      457   8.0   \n",
      "998           6.0    110.0            26             27      590  20.8   \n",
      "1001          4.0     80.0            24              6      268  48.9   \n",
      "1002          3.0    142.0         Error             10      299   4.8   \n",
      "\n",
      "      DiabetesPedigreeFunction    Age Outcome  \n",
      "0                        2.447  125.0   FALSE  \n",
      "1                        0.507  148.0   FALSE  \n",
      "2                        1.769   91.0    TRUE  \n",
      "4                        0.729   73.0   FALSE  \n",
      "5                        1.369  148.0    TRUE  \n",
      "...                        ...    ...     ...  \n",
      "996                      1.969  137.0   FALSE  \n",
      "997                      2.400  125.0    TRUE  \n",
      "998                      1.185   95.0   FALSE  \n",
      "1001                     0.989   81.0    TRUE  \n",
      "1002                     2.411   71.0    TRUE  \n",
      "\n",
      "[836 rows x 9 columns]\n"
     ]
    }
   ],
   "source": [
    "# part5Question 2: Use loc to remove outliers in each of the columns that have outliers, \n",
    "# save this as pima_outlier_removed_df.\n",
    "def remove_outliers_iqr(column):\n",
    "    Q1 = column.quantile(0.25)\n",
    "    Q3 = column.quantile(0.75)\n",
    "    IQR = Q3 - Q1\n",
    "    \n",
    "    lower_bound = Q1 - 1.5 * IQR\n",
    "    upper_bound = Q3 + 1.5 * IQR\n",
    "    \n",
    "    return column.loc[(column >= lower_bound) & (column <= upper_bound)]\n",
    "\n",
    "# Create a copy of the original DataFrame to work with\n",
    "pima_outlier_removed_df = pima_fixed_columns_df.copy()\n",
    "\n",
    "# Iterate through each column and remove outliers\n",
    "for column in pima_fixed_columns_df.columns:\n",
    "    outliers_removed = remove_outliers_iqr(pima_fixed_columns_df[column])\n",
    "    pima_outlier_removed_df[column] = outliers_removed\n",
    "    break\n",
    "# Display the DataFrame with outliers removed\n",
    "print(pima_outlier_removed_df)"
   ]
  },
  {
   "cell_type": "code",
   "execution_count": 175,
   "id": "3aeb6aea-a88e-4481-b0e6-bdcb0510dcf3",
   "metadata": {},
   "outputs": [
    {
     "data": {
      "text/plain": [
       "Pregnancies                 835\n",
       "Glucose                     836\n",
       "BloodPressure               836\n",
       "SkinThickness               836\n",
       "Insulin                     836\n",
       "BMI                         836\n",
       "DiabetesPedigreeFunction    836\n",
       "Age                         836\n",
       "Outcome                     836\n",
       "dtype: int64"
      ]
     },
     "execution_count": 175,
     "metadata": {},
     "output_type": "execute_result"
    }
   ],
   "source": [
    "# part5 Question 3:  Print out the row count in the pima_outlier_removed_df and confirm this number is correct.\n",
    "pima_outlier_removed_df.count()"
   ]
  },
  {
   "cell_type": "code",
   "execution_count": null,
   "id": "0330a0b4-c434-4720-a02f-b06a8b7c29b8",
   "metadata": {},
   "outputs": [],
   "source": []
  }
 ],
 "metadata": {
  "kernelspec": {
   "display_name": "Python 3 (ipykernel)",
   "language": "python",
   "name": "python3"
  },
  "language_info": {
   "codemirror_mode": {
    "name": "ipython",
    "version": 3
   },
   "file_extension": ".py",
   "mimetype": "text/x-python",
   "name": "python",
   "nbconvert_exporter": "python",
   "pygments_lexer": "ipython3",
   "version": "3.11.5"
  }
 },
 "nbformat": 4,
 "nbformat_minor": 5
}
